{
  "nbformat": 4,
  "nbformat_minor": 0,
  "metadata": {
    "colab": {
      "provenance": [],
      "include_colab_link": true
    },
    "kernelspec": {
      "name": "python3",
      "display_name": "Python 3"
    },
    "language_info": {
      "name": "python"
    }
  },
  "cells": [
    {
      "cell_type": "markdown",
      "metadata": {
        "id": "view-in-github",
        "colab_type": "text"
      },
      "source": [
        "<a href=\"https://colab.research.google.com/github/bhashitha69/hellow_test/blob/main/Dact_me_contr.ipynb\" target=\"_parent\"><img src=\"https://colab.research.google.com/assets/colab-badge.svg\" alt=\"Open In Colab\"/></a>"
      ]
    },
    {
      "cell_type": "code",
      "execution_count": null,
      "metadata": {
        "id": "VorYU7voWwWT"
      },
      "outputs": [],
      "source": [
        "import numpy as np\n",
        "import matplotlib.pyplot as plt\n",
        "import plotly.graph_objects as go\n",
        "from numpy.linalg import matrix_power\n",
        "from numpy.linalg import inv\n",
        "from scipy.linalg import null_space\n",
        "from sympy import Matrix\n",
        "\n",
        "def c2dm(A_c,B_c,C_c,D_c,Delta_t):\n",
        "  A_d = (Delta_t*A_c) + np.eye(A_c.shape[0]);\n",
        "  B_d = Delta_t*B_c;\n",
        "  C_d = C_c;\n",
        "  D_d = D_c;\n",
        "  return [A_d, B_d, C_d, D_d]\n",
        "\n",
        "def augment(Am,Bm,Cm):\n",
        "  Om = np.zeros((Am.shape[0],Am.shape[1]));\n",
        "  A_c1 = np.concatenate((Am,Om.transpose()),axis = 1)\n",
        "  A_c2 = np.concatenate((Cm@Am,np.eye(Am.shape[0])), axis = 1)\n",
        "  A = np.concatenate((A_c1,A_c2),axis = 0)\n",
        "  B = np.concatenate((Bm,Cm@Bm), axis = 0)\n",
        "  C = np.concatenate((Om,np.eye(Am.shape[0])),axis = 1)\n",
        "  return [A, B, C]\n",
        "\n",
        "def hessff(A,B,C,n_p):\n",
        "  hes1 = np.zeros((C.shape[0],B.shape[1]))\n",
        "  ff = np.empty([0,A.shape[1]])\n",
        "  hes = np.empty([C.shape[0],0])\n",
        "  hessi = np.empty([0,B.shape[1]*n_p])\n",
        "  for i in range(0,n_p):\n",
        "    hes = np.empty([C.shape[0],0])\n",
        "    for n in range(0,n_p):\n",
        "      if n <= i:\n",
        "        hess = C@matrix_power(A,i-n)@B\n",
        "      else:\n",
        "        hess = hes1\n",
        "      hes = np.concatenate((hes,hess),axis = 1)\n",
        "    hessi = np.concatenate((hessi,hes),axis = 0)\n",
        "    ff = np.concatenate((ff,C@matrix_power(A,i+1)),axis = 0)\n",
        "  return [ff , hessi]\n",
        "\n",
        "def bar_R(r, N):\n",
        "  r_0 = np.full((N,len(r)),r)\n",
        "  r_1 = np.reshape(r_0,N*len(r))\n",
        "  R = np.diag(r_1)\n",
        "  return R\n",
        "\n",
        "def out_Rs(ref,N):\n",
        "  r_s = np.full((N, len(ref)),ref)\n",
        "  rs1 = np.reshape(r_s, (N*len(ref) , 1))\n",
        "  return rs1\n",
        "\n",
        "def get_C_12(B,N):\n",
        "  n = B.shape[1]\n",
        "  i_C = np.eye(n)\n",
        "  iop =np.full((N, n, n),i_C)\n",
        "  hes1 = np.zeros((n,n))\n",
        "  hessi = np.empty([0,n*N])\n",
        "  ff = np.reshape(iop, (N*n , n))\n",
        "  for i in range(0,N):\n",
        "    hes = np.empty([n,0])\n",
        "    for j in range(0,N):\n",
        "      if j <= i:\n",
        "        hess = i_C\n",
        "      else:\n",
        "        hess = hes1\n",
        "\n",
        "      hes = np.concatenate((hes,hess),axis = 1)\n",
        "    hessi = np.concatenate((hessi,hes),axis = 0)\n",
        "  return [ff, hessi]"
      ]
    },
    {
      "cell_type": "code",
      "source": [
        "def get_lmd(E,M_c,F,f_f):\n",
        "  K_1 = np.concatenate((E,M_c.T), axis = 1)\n",
        "  K_1.shape[1]\n",
        "  K_2 = np.concatenate((M_c,np.zeros((M_c.shape[0],M_c.T.shape[1]))), axis = 1)\n",
        "  K_k = np.concatenate((K_1,K_2), axis = 0)\n",
        "  F_f = np.concatenate((-F,f_f), axis = 0)\n",
        "  K_k_1 = np.array(inv(K_k),dtype = \"float32\")\n",
        "  L_l = K_k_1@F_f\n",
        "  return np.array(L_l[L_l.shape[0] - M_c.shape[0]:], dtype = \"float32\")\n",
        "\n",
        "def get_Xs(E,M_c,F,f_f):\n",
        "  K_1 = np.concatenate((E,M_c.T), axis = 1)\n",
        "  K_1.shape[1]\n",
        "  K_2 = np.concatenate((M_c,np.zeros((M_c.shape[0],M_c.T.shape[1]))), axis = 1)\n",
        "  K_k = np.concatenate((K_1,K_2), axis = 0)\n",
        "  F_f = np.concatenate((-F,f_f), axis = 0)\n",
        "  K_k_1 = np.array(inv(K_k),dtype = \"float32\")\n",
        "  L_l = K_k_1@F_f\n",
        "  return np.array(L_l[0:M_c.shape[1]], dtype = \"float32\")"
      ],
      "metadata": {
        "id": "G8zVv1cGXZMU"
      },
      "execution_count": null,
      "outputs": []
    },
    {
      "cell_type": "code",
      "source": [
        "def dfunc(X):\n",
        "  m = 1; g = 1; l = 1; I = 1; k = 1; j = 1\n",
        "  df = np.array([[0, 1, 0, 0],[-m*g*l*np.cos(X[0][0])/I - k, 0, k, 0],[0, 0, 0, 1],[k/j, 0, -k/j, 0]])\n",
        "  return df"
      ],
      "metadata": {
        "id": "3CVZG8q3WEo8"
      },
      "execution_count": null,
      "outputs": []
    },
    {
      "cell_type": "code",
      "source": [
        "a = np.array([[0, 1, 0],[3, 0, 1], [0, 1, 0]])\n",
        "b = np.array([[1, 1, 13],[1, -4, 2], [3, 1, -5]])\n",
        "c = np.array([[1, 0, 0],[0, 1, 0],[0, 0, 1]])\n",
        "d = np.array([[0, 0, 0]])\n",
        "Q_q = np.array([[1, 0, 0],[0, 1, 0], [0, 0, 1]])\n",
        "Q_q = bar_R([0.0001, 1, 0.001],20)\n",
        "t = 0.02\n",
        "N = 20\n",
        "[Am,Bm,Cm,Dm] = c2dm(a,b,c,d,t)\n",
        "[A, B, C] = augment(Am,Bm,Cm)\n",
        "[f, he] = hessff(A,B,C,N)\n",
        "\n",
        "Rr = bar_R([0.07, 0.07, 0.07],N)\n",
        "R_s = out_Rs([1, -1, 1],N)\n",
        "\n",
        "x = np.array([[1],[-3],[1]])\n",
        "x_1 = Am@x\n",
        "x_2 = x_1 - x\n",
        "x = np.concatenate((x_2.T,x_1.T),axis = 1)\n",
        "jkl = (inv(he.T@Q_q@he + Rr))@he.T@Q_q@(R_s - (f@(x.T)))"
      ],
      "metadata": {
        "id": "Mc_gilsxXJrE"
      },
      "execution_count": null,
      "outputs": []
    },
    {
      "cell_type": "code",
      "source": [
        "iopp = jkl.reshape(N,3)\n",
        "i1op = np.zeros((N,3))\n",
        "for i1 in range(0,N):\n",
        "  i1op[i1][0] = iopp[0:i1,0].sum()\n",
        "  i1op[i1][1] = iopp[0:i1,1].sum()\n",
        "  i1op[i1][2] = iopp[0:i1,2].sum()\n",
        "np.round(i1op,decimals = 2)"
      ],
      "metadata": {
        "id": "MKI4GOPyicR0",
        "colab": {
          "base_uri": "https://localhost:8080/"
        },
        "outputId": "e5507a85-8526-428c-b189-e39120003c69"
      },
      "execution_count": null,
      "outputs": [
        {
          "output_type": "execute_result",
          "data": {
            "text/plain": [
              "array([[ 0.  ,  0.  ,  0.  ],\n",
              "       [ 0.91, -3.89,  1.49],\n",
              "       [ 1.01, -4.64,  1.28],\n",
              "       [ 0.76, -3.88,  0.47],\n",
              "       [ 0.43, -2.67, -0.36],\n",
              "       [ 0.16, -1.56, -0.95],\n",
              "       [-0.01, -0.77, -1.24],\n",
              "       [-0.08, -0.32, -1.29],\n",
              "       [-0.08, -0.13, -1.19],\n",
              "       [-0.04, -0.12, -1.  ],\n",
              "       [ 0.01, -0.21, -0.8 ],\n",
              "       [ 0.07, -0.32, -0.62],\n",
              "       [ 0.12, -0.43, -0.46],\n",
              "       [ 0.16, -0.53, -0.34],\n",
              "       [ 0.19, -0.61, -0.24],\n",
              "       [ 0.21, -0.66, -0.18],\n",
              "       [ 0.23, -0.7 , -0.13],\n",
              "       [ 0.24, -0.73, -0.1 ],\n",
              "       [ 0.25, -0.76, -0.08],\n",
              "       [ 0.25, -0.77, -0.07]])"
            ]
          },
          "metadata": {},
          "execution_count": 17
        }
      ]
    },
    {
      "cell_type": "code",
      "source": [
        "Iopp = jkl.T[0]\n",
        "Iiop = np.zeros((N+1,3))\n",
        "Xm = np.array([[1],[-3],[1]])\n",
        "for i1 in range(0,N):\n",
        "  X_v = Cm@Xm\n",
        "  Iiop[i1][0] = X_v[0][0]\n",
        "  Iiop[i1][1] = X_v[1][0]\n",
        "  Iiop[i1][2] = X_v[2][0]\n",
        "\n",
        "  Xmn = Am@Xm + Bm@i1op[i1].reshape(3,1)\n",
        "  #print(Bmi1op[i1].reshape(3,1))\n",
        "  Xm = Xmn\n",
        "np.round(Iiop,decimals = 2)"
      ],
      "metadata": {
        "id": "3m8d6pXltu71",
        "colab": {
          "base_uri": "https://localhost:8080/"
        },
        "outputId": "2a94ec5f-bea4-4d77-a4df-f29d8addb929"
      },
      "execution_count": null,
      "outputs": [
        {
          "output_type": "execute_result",
          "data": {
            "text/plain": [
              "array([[ 1.  , -3.  ,  1.  ],\n",
              "       [ 0.94, -2.92,  0.94],\n",
              "       [ 1.21, -2.46,  0.71],\n",
              "       [ 1.42, -1.93,  0.5 ],\n",
              "       [ 1.44, -1.49,  0.38],\n",
              "       [ 1.27, -1.19,  0.36],\n",
              "       [ 0.97, -1.01,  0.41],\n",
              "       [ 0.62, -0.93,  0.5 ],\n",
              "       [ 0.25, -0.91,  0.6 ],\n",
              "       [-0.08, -0.93,  0.69],\n",
              "       [-0.36, -0.95,  0.77],\n",
              "       [-0.59, -0.97,  0.83],\n",
              "       [-0.78, -0.99,  0.87],\n",
              "       [-0.92, -1.  ,  0.89],\n",
              "       [-1.04, -1.  ,  0.9 ],\n",
              "       [-1.13, -1.  ,  0.91],\n",
              "       [-1.2 , -1.  ,  0.9 ],\n",
              "       [-1.27, -1.  ,  0.9 ],\n",
              "       [-1.32, -1.  ,  0.89],\n",
              "       [-1.38, -1.  ,  0.87],\n",
              "       [ 0.  ,  0.  ,  0.  ]])"
            ]
          },
          "metadata": {},
          "execution_count": 18
        }
      ]
    },
    {
      "cell_type": "code",
      "source": [
        "E = he.T@Q_q@he + Rr\n",
        "R_T = np.linalg.cholesky(E)\n",
        "R = R_T.T"
      ],
      "metadata": {
        "id": "PwHN-ic5Xu09"
      },
      "execution_count": null,
      "outputs": []
    },
    {
      "cell_type": "code",
      "source": [
        "def t_maxx(A,B):\n",
        "\n",
        "  R = np.zeros((A.shape[0],1))\n",
        "  for i in range(0,A.shape[0]):\n",
        "    if abs(A[i][0]) >= 0.000001:\n",
        "      r = B[i][0]/A[i][0]\n",
        "      if r <= 1 and r >= 0:\n",
        "        R[i][0] = r\n",
        "\n",
        "  return np.amax(R) , np.argmax(R)"
      ],
      "metadata": {
        "id": "g2fp6XUeZHM_"
      },
      "execution_count": null,
      "outputs": []
    },
    {
      "cell_type": "code",
      "source": [
        "def get_minind(X123):\n",
        "  J1 = []\n",
        "  for i3 in range(0,X123.shape[0]):\n",
        "    if X123[i3][0] < 0:\n",
        "      J1.append(i3)\n",
        "  return J1"
      ],
      "metadata": {
        "id": "NTpsJzgpZKIE"
      },
      "execution_count": null,
      "outputs": []
    },
    {
      "cell_type": "code",
      "source": [
        "def fixComp(lmd,B,pp_k,WW,BBb):\n",
        "  #print(lmd)\n",
        "  #print(pp_k[B])\n",
        "  r = np.argmin(-lmd[B]/pp_k[B])\n",
        "  #print(r)\n",
        "  min_p = -lmd[B[r]]/pp_k[B[r]]\n",
        "  #print(min_p)\n",
        "  min = min_p[0]\n",
        "\n",
        "  LmD = lmd + min*pp_k\n",
        "  WW.remove(B[r])\n",
        "  BBb.append(B[r])\n",
        "  return LmD, WW, BBb"
      ],
      "metadata": {
        "id": "SYzohkKPZQHt"
      },
      "execution_count": null,
      "outputs": []
    },
    {
      "cell_type": "code",
      "source": [
        "Y_min = np.full((N,3,1),[[0.5],[-4],[0.5]])\n",
        "Y_min = Y_min.reshape(N*3,1)\n",
        "Y_max = np.full((N,3,1),[[1.5],[0],[1.5]])\n",
        "Y_max = Y_max.reshape(N*3,1)"
      ],
      "metadata": {
        "id": "C4XYLJZ7q_Uk"
      },
      "execution_count": null,
      "outputs": []
    },
    {
      "cell_type": "code",
      "source": [
        "u_k_1 = np.array([[0],[0],[0]])\n",
        "#u = np.zeros((1,100))\n",
        "#U = np.zeros((1,100))\n",
        "x_t = x.T\n",
        "#X = np.empty([4,0])\n",
        "[C_1 , C_2] = get_C_12(B,N)\n",
        "II = np.eye(3).tolist()\n",
        "ll = np.full((N,3,3),[[1, 0, 0],[0, 1, 0],[0, 0, 1]])\n",
        "ll = ll.reshape(N*3,3)\n",
        "Umin = ll@np.array([[1],[3],[0.5]]) + C_1@u_k_1\n",
        "Umax = ll@np.array([[1],[3],[0.5]]) - C_1@u_k_1\n",
        "M = np.concatenate((-C_2,C_2), axis = 0)\n",
        "M_1 = np.concatenate((-he,he), axis = 0)\n",
        "Y_min = -Y_min + f@x_t\n",
        "Y_max = Y_max - f@x_t\n",
        "Y_lim = np.concatenate((Y_min,Y_max), axis = 0)\n",
        "M = np.concatenate((M,M_1),axis = 0)\n",
        "M = np.array(M, dtype = \"float16\")\n",
        "gamm = np.concatenate((Umin,Umax), axis = 0)\n",
        "gamm = np.concatenate((gamm,Y_lim), axis = 0)\n",
        "gamm = np.array(gamm, dtype = \"float16\")\n",
        "E = he.T@Q_q@he + Rr\n",
        "E_1 = inv(E)\n",
        "\n",
        "F = -he.T@Q_q@(R_s - (f@(x_t)))\n",
        "\n",
        "lmd_p = np.zeros((N*4*3,1), dtype = \"float16\")\n",
        "\n",
        "Wq = [0,  1,  2,  3,  4,  5,  6,  7,  8,  9, 10, 11, 12, 13, 14, 15, 16, 17, 18, 19, 50, 51, 52, 53, 54, 55, 56, 57, 58, 59, 60,  61,  62,  63,  64,  65,  66,  67,  68,  69,  70,  71,  72,  73,  74,  75,  76,  77,  78,  79,  80,  81,  82,  83,  84,  85,  86,  87,  88,  89 ,120, 121, 122, 123, 124, 125, 126, 127, 128, 129, 130, 131, 132, 133, 134, 135, 136, 137, 138, 139, 140, 141, 142, 143, 144, 145, 146, 147, 148, 149, 150, 151, 152, 153, 154, 155, 156, 157, 158, 159, 160, 161, 162, 163, 164, 165, 166, 167, 168, 169, 170, 171, 172, 173, 174, 175, 176, 177, 178, 179]\n",
        "bW = [30,31, 32, 33, 34, 35, 36, 37, 38, 39, 40, 41, 42, 43, 44, 45, 46, 47, 48, 49,  20, 21, 22, 23, 24, 25, 26, 27, 28, 29,  90,  91,  92,  93,  94,  95,  96,  97,  98, 99, 100, 101, 102, 103, 104, 105, 106, 107, 108, 109, 110, 111, 112, 113, 114, 115, 116, 117, 118, 119,180, 181, 182, 183, 184, 185, 186, 187, 188, 189, 190, 191, 192, 193, 194, 195, 196, 197, 198, 199, 200, 201, 202, 203, 204, 205, 206, 207, 208, 209, 210, 211, 212, 213, 214, 215, 216, 217, 218, 219, 220, 221, 222, 223, 224, 225, 226, 227, 228, 229, 230, 231, 232, 233, 234, 235, 236, 237, 238, 239]\n",
        "#h = np.linalg.det(M@E_1@M.T)\n",
        "\n",
        "#print(h)\n",
        "#Lmd = -inv(M@E_1@M.T)@(gamm + M@E_1@F)\n",
        "#dU = (inv(he.T@he + Rr))@he.T@(R_s - (f@(x_t)))\n",
        "#U_0 = dU - E_1@M.T@Lmd\n",
        "#x_n = A@(x_t) + B*dU[0][0]\n",
        "#X = np.concatenate((X,x_n),axis = 1)\n",
        "#x_t = x_n"
      ],
      "metadata": {
        "id": "SB3R5EFWXf3d"
      },
      "execution_count": null,
      "outputs": []
    },
    {
      "cell_type": "code",
      "source": [
        "def D_act_set(A, b, P , Q, R_i,R, Lmd_0,w_0,bw_0):\n",
        "  LMD = Lmd_0\n",
        "  k = 0\n",
        "  w = w_0\n",
        "  bw = bw_0\n",
        "  while True:\n",
        "    print(bw)\n",
        "    #print(lmd_k)\n",
        "    A_k = A[w]\n",
        "    M_k = A_k@R_i\n",
        "    if (np.linalg.det(M_k@M_k.T) != 0.0):\n",
        "      f = Q\n",
        "      d_k = b[w] + M_k@inv(R.T)@f\n",
        "      lmd_k = np.zeros((A.shape[0],1))\n",
        "      print(lmd_k)\n",
        "      lmd_k[w] = -inv(M_k@M_k.T)@d_k\n",
        "      if (lmd_k >= 0.000).all() == True:\n",
        "        Ub_u_k = np.zeros((A.shape[0],1))\n",
        "        print(M_k)\n",
        "        Ub_M_k = A[bw]@R_i\n",
        "        Ub_d_k = b[bw] + Ub_M_k@inv(R.T)@f\n",
        "        Ub_u_k[bw] = Ub_M_k@M_k.T@lmd_k[w] + Ub_d_k\n",
        "        LMD = lmd_k\n",
        "        k = k + 1\n",
        "\n",
        "        if (Ub_u_k >= 0.000).all() :\n",
        "          print(Ub_u_k)\n",
        "          x_opt = -R_i@(M_k.T@lmd_k[w] + inv(R.T)@f)\n",
        "          return x_opt, lmd_k\n",
        "        else:\n",
        "          U_n = np.argmin(Ub_u_k)\n",
        "          w.append(U_n)\n",
        "          bw.remove(U_n)\n",
        "      else:\n",
        "        p_k = lmd_k - LMD\n",
        "        #B_0 = np.flatnonzero(lmd_k)\n",
        "        #print(lmd_k)\n",
        "        #B = B_0.tolist()\n",
        "        B = get_minind(lmd_k)\n",
        "        #print(lmd_k)\n",
        "        LMD , w, bw = fixComp(LMD,B,p_k,w,bw)\n",
        "        k = k + 1\n",
        "    else:\n",
        "      n_s = null_space(M_k@M_k.T)\n",
        "      d = b[w] + A[w]@R_i@inv(R.T)@Q\n",
        "      pre_dp = d.T@n_s\n",
        "      pre_dp1 = pre_dp[0,1:]@np.ones((pre_dp.shape[1] - 1,1))\n",
        "      #print(n_s)\n",
        "      x_1 = (-0.5 - pre_dp1[0])/pre_dp[0][0]\n",
        "      p_o_p = np.concatenate((np.array([[x_1]]),np.ones((pre_dp.shape[1] - 1,1))), axis = 0)\n",
        "      p_s = n_s@p_o_p\n",
        "      ppp_k = np.zeros((A.shape[0],1))\n",
        "      ppp_k[w] = p_s\n",
        "      #B_0 = np.flatnonzero(ppp_k)\n",
        "      #B = B_0.tolist()\n",
        "      #print(p_s)\n",
        "\n",
        "      B = get_minind(ppp_k)\n",
        "      LMD , w, bw = fixComp(LMD,B,ppp_k,w,bw)\n",
        "      k = k + 1"
      ],
      "metadata": {
        "id": "VRVHFDVJYzct"
      },
      "execution_count": null,
      "outputs": []
    },
    {
      "cell_type": "code",
      "source": [
        "x_o, lmd_o = D_act_set(M,gamm,E,F,inv(R),R,lmd_p,Wq,bW)"
      ],
      "metadata": {
        "id": "1775dgWHY5uV"
      },
      "execution_count": null,
      "outputs": []
    },
    {
      "cell_type": "code",
      "source": [
        "x_o.shape"
      ],
      "metadata": {
        "colab": {
          "base_uri": "https://localhost:8080/"
        },
        "id": "JSIx9JjrQhex",
        "outputId": "a420ad3a-75c5-470c-eb7c-d114c99050d0"
      },
      "execution_count": null,
      "outputs": [
        {
          "output_type": "execute_result",
          "data": {
            "text/plain": [
              "(60, 1)"
            ]
          },
          "metadata": {},
          "execution_count": 35
        }
      ]
    },
    {
      "cell_type": "code",
      "source": [
        "x_o.reshape(20,3)"
      ],
      "metadata": {
        "colab": {
          "base_uri": "https://localhost:8080/"
        },
        "id": "nDevcqirbQEe",
        "outputId": "2d3065d0-88d7-4125-b762-cb469ee490b2"
      },
      "execution_count": null,
      "outputs": [
        {
          "output_type": "execute_result",
          "data": {
            "text/plain": [
              "array([[ 1.00000000e+00, -3.00000000e+00,  5.00000000e-01],\n",
              "       [ 2.68673972e-14,  7.66331443e-14,  5.88418203e-14],\n",
              "       [ 6.56141808e-14,  9.90874049e-14,  4.52970994e-14],\n",
              "       [-4.23091630e-02,  8.00712430e-02, -7.45456051e-02],\n",
              "       [-2.05061023e-01,  7.96737035e-01, -3.52040162e-01],\n",
              "       [-2.18498513e-01,  9.35535095e-01, -3.17966007e-01],\n",
              "       [-1.66444789e-01,  7.92831112e-01, -1.71306316e-01],\n",
              "       [-9.97496023e-02,  5.60178756e-01, -2.28355178e-02],\n",
              "       [-4.35468464e-02,  3.40325022e-01,  7.91893186e-02],\n",
              "       [-6.10401038e-03,  1.74212679e-01,  1.24570435e-01],\n",
              "       [ 1.34051620e-02,  6.68570418e-02,  1.21855653e-01],\n",
              "       [ 1.94709807e-02,  6.98005569e-03,  8.53901017e-02],\n",
              "       [ 1.70451111e-02, -2.07565715e-02,  2.88123846e-02],\n",
              "       [ 1.42115227e-02, -2.52119636e-02,  1.62790833e-02],\n",
              "       [ 1.04022211e-02, -1.97853229e-02,  1.05444784e-02],\n",
              "       [ 6.52873923e-03, -1.18199756e-02,  4.95704651e-03],\n",
              "       [ 3.43021485e-03, -4.88233483e-03,  1.08074653e-03],\n",
              "       [ 1.37293845e-03, -4.44290287e-04, -8.23504281e-04],\n",
              "       [ 2.93004311e-04,  1.32801915e-03, -1.16719032e-03],\n",
              "       [-4.93640308e-05,  1.06607984e-03, -6.38596693e-04]])"
            ]
          },
          "metadata": {},
          "execution_count": 36
        }
      ]
    },
    {
      "cell_type": "code",
      "source": [
        "iopp = x_o.reshape(N,3)\n",
        "i1op = np.zeros((N,3))\n",
        "for i1 in range(0,N):\n",
        "  i1op[i1][0] = iopp[0:i1,0].sum()\n",
        "  i1op[i1][1] = iopp[0:i1,1].sum()\n",
        "  i1op[i1][2] = iopp[0:i1,2].sum()\n",
        "np.round(i1op,decimals = 2)"
      ],
      "metadata": {
        "colab": {
          "base_uri": "https://localhost:8080/"
        },
        "id": "qpyEnT4MAQVO",
        "outputId": "90cf8599-cb67-4e87-df61-a4ba9430d7bd"
      },
      "execution_count": null,
      "outputs": [
        {
          "output_type": "execute_result",
          "data": {
            "text/plain": [
              "array([[ 0.  ,  0.  ,  0.  ],\n",
              "       [ 1.  , -3.  ,  0.5 ],\n",
              "       [ 1.  , -3.  ,  0.5 ],\n",
              "       [ 1.  , -3.  ,  0.5 ],\n",
              "       [ 0.96, -2.92,  0.43],\n",
              "       [ 0.75, -2.12,  0.07],\n",
              "       [ 0.53, -1.19, -0.24],\n",
              "       [ 0.37, -0.39, -0.42],\n",
              "       [ 0.27,  0.17, -0.44],\n",
              "       [ 0.22,  0.51, -0.36],\n",
              "       [ 0.22,  0.68, -0.23],\n",
              "       [ 0.23,  0.75, -0.11],\n",
              "       [ 0.25,  0.75, -0.03],\n",
              "       [ 0.27,  0.73,  0.  ],\n",
              "       [ 0.28,  0.71,  0.02],\n",
              "       [ 0.29,  0.69,  0.03],\n",
              "       [ 0.3 ,  0.68,  0.03],\n",
              "       [ 0.3 ,  0.67,  0.03],\n",
              "       [ 0.3 ,  0.67,  0.03],\n",
              "       [ 0.3 ,  0.67,  0.03]])"
            ]
          },
          "metadata": {},
          "execution_count": 37
        }
      ]
    },
    {
      "cell_type": "code",
      "source": [
        "Iopp = jkl.T[0]\n",
        "Iiop = np.zeros((N+1,3))\n",
        "Xm = np.array([[1],[-3],[1]])\n",
        "for i1 in range(0,N):\n",
        "  X_v = Cm@Xm\n",
        "  Iiop[i1][0] = X_v[0][0]\n",
        "  Iiop[i1][1] = X_v[1][0]\n",
        "  Iiop[i1][2] = X_v[2][0]\n",
        "\n",
        "  Xmn = Am@Xm + Bm@i1op[i1].reshape(3,1)\n",
        "  #print(Bmi1op[i1].reshape(3,1))\n",
        "  Xm = Xmn\n",
        "np.round(Iiop,decimals = 2)"
      ],
      "metadata": {
        "colab": {
          "base_uri": "https://localhost:8080/"
        },
        "id": "siwzr35e8B2k",
        "outputId": "b4469ae0-3eff-4f99-f3a8-9b3db44f75ab"
      },
      "execution_count": null,
      "outputs": [
        {
          "output_type": "execute_result",
          "data": {
            "text/plain": [
              "array([[ 1.  , -3.  ,  1.  ],\n",
              "       [ 0.94, -2.92,  0.94],\n",
              "       [ 0.97, -2.56,  0.83],\n",
              "       [ 1.01, -2.21,  0.73],\n",
              "       [ 1.06, -1.85,  0.64],\n",
              "       [ 1.09, -1.51,  0.56],\n",
              "       [ 1.05, -1.24,  0.52],\n",
              "       [ 0.95, -1.07,  0.53],\n",
              "       [ 0.82, -0.99,  0.56],\n",
              "       [ 0.7 , -0.95,  0.61],\n",
              "       [ 0.6 , -0.95,  0.65],\n",
              "       [ 0.54, -0.96,  0.68],\n",
              "       [ 0.51, -0.97,  0.7 ],\n",
              "       [ 0.5 , -0.98,  0.71],\n",
              "       [ 0.5 , -0.99,  0.72],\n",
              "       [ 0.5 , -1.  ,  0.73],\n",
              "       [ 0.51, -1.  ,  0.74],\n",
              "       [ 0.52, -1.  ,  0.75],\n",
              "       [ 0.53, -1.  ,  0.76],\n",
              "       [ 0.54, -1.  ,  0.77],\n",
              "       [ 0.  ,  0.  ,  0.  ]])"
            ]
          },
          "metadata": {},
          "execution_count": 38
        }
      ]
    },
    {
      "cell_type": "code",
      "source": [
        "iopp = x_o\n",
        "iiop = np.zeros((1,11))\n",
        "for i1 in range(1,11):\n",
        "  iiop[0][i1] = iopp[0:i1].sum()\n",
        "iiop.T"
      ],
      "metadata": {
        "colab": {
          "base_uri": "https://localhost:8080/"
        },
        "id": "mxUqGYFuhxt-",
        "outputId": "3cf756c4-b8c7-427e-d109-b5bdabacadd4"
      },
      "execution_count": null,
      "outputs": [
        {
          "output_type": "execute_result",
          "data": {
            "text/plain": [
              "array([[  0.        ],\n",
              "       [ 39.55755803],\n",
              "       [ 69.47994876],\n",
              "       [ 90.99681351],\n",
              "       [105.32473067],\n",
              "       [113.63086059],\n",
              "       [117.00669151],\n",
              "       [116.45037121],\n",
              "       [112.85618632],\n",
              "       [107.00985739],\n",
              "       [ 99.58844137]])"
            ]
          },
          "metadata": {},
          "execution_count": 19
        }
      ]
    },
    {
      "cell_type": "code",
      "source": [
        "X_x = np.array([0, 1, 2, 3, 4, 5, 6, 7, 8, 9, 10])"
      ],
      "metadata": {
        "id": "G42wLw4x86iT"
      },
      "execution_count": null,
      "outputs": []
    },
    {
      "cell_type": "code",
      "source": [
        "X_x = X_x.reshape(1,11)\n",
        "Iiop = Iiop.reshape(1,11)\n",
        "IIop = IIop.reshape(1,11)"
      ],
      "metadata": {
        "id": "cO2OvdWYAC_a"
      },
      "execution_count": null,
      "outputs": []
    },
    {
      "cell_type": "code",
      "source": [
        "Iiop"
      ],
      "metadata": {
        "colab": {
          "base_uri": "https://localhost:8080/"
        },
        "id": "5RCpW7d5AmNB",
        "outputId": "2e39d65e-dd4b-4724-b832-dd797bafbaed"
      },
      "execution_count": null,
      "outputs": [
        {
          "output_type": "execute_result",
          "data": {
            "text/plain": [
              "array([[0.        , 0.        , 0.99335019, 2.35128288, 3.60802981,\n",
              "        4.53246345, 5.08358766, 5.3276373 , 5.36191002, 5.26445466,\n",
              "        5.07254392]])"
            ]
          },
          "metadata": {},
          "execution_count": 27
        }
      ]
    },
    {
      "cell_type": "code",
      "source": [
        "IIop"
      ],
      "metadata": {
        "colab": {
          "base_uri": "https://localhost:8080/"
        },
        "id": "VU_JYYdZB3P8",
        "outputId": "7b5976ce-0f3a-4899-aefc-58b34532fc0d"
      },
      "execution_count": null,
      "outputs": [
        {
          "output_type": "execute_result",
          "data": {
            "text/plain": [
              "array([[0.        , 0.        , 0.8       , 2.08      , 3.35472466,\n",
              "        4.3466438 , 4.97594005, 5.28547769, 5.36318274, 5.28645546,\n",
              "        5.09518517]])"
            ]
          },
          "metadata": {},
          "execution_count": 28
        }
      ]
    },
    {
      "cell_type": "code",
      "source": [
        "fig2 = go.Figure()\n",
        "fig2.add_trace(go.Scatter(x= X_x[0], y= Iiop[0][1:], mode='lines',name='$\\omega_{J}\\\\text{ rad/s}$', marker=dict(color=\"blue\")))\n",
        "fig2.add_trace(go.Scatter(x= X_x[0], y= IIop[0][1:], mode='lines', name='$\\omega_{J}\\\\text{ rad/s}$', marker=dict(color=\"red\")))\n",
        "fig2.update_layout(title='$\\\\text{ Input Voltages to Motors} $',xaxis=dict(title=\"$\\\\text{Time\\\\ } s$\"),yaxis=dict(title=\"$V$\"))"
      ],
      "metadata": {
        "colab": {
          "base_uri": "https://localhost:8080/",
          "height": 542
        },
        "id": "hQVfzyXj-x_Z",
        "outputId": "4abf61d8-bbb7-4300-e105-1cdc7e8a2f28"
      },
      "execution_count": null,
      "outputs": [
        {
          "output_type": "display_data",
          "data": {
            "text/html": [
              "<html>\n",
              "<head><meta charset=\"utf-8\" /></head>\n",
              "<body>\n",
              "    <div>            <script src=\"https://cdnjs.cloudflare.com/ajax/libs/mathjax/2.7.5/MathJax.js?config=TeX-AMS-MML_SVG\"></script><script type=\"text/javascript\">if (window.MathJax && window.MathJax.Hub && window.MathJax.Hub.Config) {window.MathJax.Hub.Config({SVG: {font: \"STIX-Web\"}});}</script>                <script type=\"text/javascript\">window.PlotlyConfig = {MathJaxConfig: 'local'};</script>\n",
              "        <script src=\"https://cdn.plot.ly/plotly-2.18.2.min.js\"></script>                <div id=\"fc3f1dd9-031f-4056-af13-29a5f9513077\" class=\"plotly-graph-div\" style=\"height:525px; width:100%;\"></div>            <script type=\"text/javascript\">                                    window.PLOTLYENV=window.PLOTLYENV || {};                                    if (document.getElementById(\"fc3f1dd9-031f-4056-af13-29a5f9513077\")) {                    Plotly.newPlot(                        \"fc3f1dd9-031f-4056-af13-29a5f9513077\",                        [{\"marker\":{\"color\":\"blue\"},\"mode\":\"lines\",\"name\":\"$\\\\omega_{J}\\\\text{ rad/s}$\",\"x\":[0,1,2,3,4,5,6,7,8,9,10],\"y\":[0.0,0.9933501941499188,2.3512828806712904,3.608029810703586,4.532463447762318,5.083587664554466,5.327637300965225,5.361910016155924,5.2644546593357395,5.072543921006569],\"type\":\"scatter\"},{\"marker\":{\"color\":\"red\"},\"mode\":\"lines\",\"name\":\"$\\\\omega_{J}\\\\text{ rad/s}$\",\"x\":[0,1,2,3,4,5,6,7,8,9,10],\"y\":[0.0,0.8000000000000022,2.0799999999999965,3.3547246639878154,4.346643801481404,4.975940053236498,5.285477692350778,5.363182736864908,5.286455463829677,5.0951851729551425],\"type\":\"scatter\"}],                        {\"template\":{\"data\":{\"histogram2dcontour\":[{\"type\":\"histogram2dcontour\",\"colorbar\":{\"outlinewidth\":0,\"ticks\":\"\"},\"colorscale\":[[0.0,\"#0d0887\"],[0.1111111111111111,\"#46039f\"],[0.2222222222222222,\"#7201a8\"],[0.3333333333333333,\"#9c179e\"],[0.4444444444444444,\"#bd3786\"],[0.5555555555555556,\"#d8576b\"],[0.6666666666666666,\"#ed7953\"],[0.7777777777777778,\"#fb9f3a\"],[0.8888888888888888,\"#fdca26\"],[1.0,\"#f0f921\"]]}],\"choropleth\":[{\"type\":\"choropleth\",\"colorbar\":{\"outlinewidth\":0,\"ticks\":\"\"}}],\"histogram2d\":[{\"type\":\"histogram2d\",\"colorbar\":{\"outlinewidth\":0,\"ticks\":\"\"},\"colorscale\":[[0.0,\"#0d0887\"],[0.1111111111111111,\"#46039f\"],[0.2222222222222222,\"#7201a8\"],[0.3333333333333333,\"#9c179e\"],[0.4444444444444444,\"#bd3786\"],[0.5555555555555556,\"#d8576b\"],[0.6666666666666666,\"#ed7953\"],[0.7777777777777778,\"#fb9f3a\"],[0.8888888888888888,\"#fdca26\"],[1.0,\"#f0f921\"]]}],\"heatmap\":[{\"type\":\"heatmap\",\"colorbar\":{\"outlinewidth\":0,\"ticks\":\"\"},\"colorscale\":[[0.0,\"#0d0887\"],[0.1111111111111111,\"#46039f\"],[0.2222222222222222,\"#7201a8\"],[0.3333333333333333,\"#9c179e\"],[0.4444444444444444,\"#bd3786\"],[0.5555555555555556,\"#d8576b\"],[0.6666666666666666,\"#ed7953\"],[0.7777777777777778,\"#fb9f3a\"],[0.8888888888888888,\"#fdca26\"],[1.0,\"#f0f921\"]]}],\"heatmapgl\":[{\"type\":\"heatmapgl\",\"colorbar\":{\"outlinewidth\":0,\"ticks\":\"\"},\"colorscale\":[[0.0,\"#0d0887\"],[0.1111111111111111,\"#46039f\"],[0.2222222222222222,\"#7201a8\"],[0.3333333333333333,\"#9c179e\"],[0.4444444444444444,\"#bd3786\"],[0.5555555555555556,\"#d8576b\"],[0.6666666666666666,\"#ed7953\"],[0.7777777777777778,\"#fb9f3a\"],[0.8888888888888888,\"#fdca26\"],[1.0,\"#f0f921\"]]}],\"contourcarpet\":[{\"type\":\"contourcarpet\",\"colorbar\":{\"outlinewidth\":0,\"ticks\":\"\"}}],\"contour\":[{\"type\":\"contour\",\"colorbar\":{\"outlinewidth\":0,\"ticks\":\"\"},\"colorscale\":[[0.0,\"#0d0887\"],[0.1111111111111111,\"#46039f\"],[0.2222222222222222,\"#7201a8\"],[0.3333333333333333,\"#9c179e\"],[0.4444444444444444,\"#bd3786\"],[0.5555555555555556,\"#d8576b\"],[0.6666666666666666,\"#ed7953\"],[0.7777777777777778,\"#fb9f3a\"],[0.8888888888888888,\"#fdca26\"],[1.0,\"#f0f921\"]]}],\"surface\":[{\"type\":\"surface\",\"colorbar\":{\"outlinewidth\":0,\"ticks\":\"\"},\"colorscale\":[[0.0,\"#0d0887\"],[0.1111111111111111,\"#46039f\"],[0.2222222222222222,\"#7201a8\"],[0.3333333333333333,\"#9c179e\"],[0.4444444444444444,\"#bd3786\"],[0.5555555555555556,\"#d8576b\"],[0.6666666666666666,\"#ed7953\"],[0.7777777777777778,\"#fb9f3a\"],[0.8888888888888888,\"#fdca26\"],[1.0,\"#f0f921\"]]}],\"mesh3d\":[{\"type\":\"mesh3d\",\"colorbar\":{\"outlinewidth\":0,\"ticks\":\"\"}}],\"scatter\":[{\"fillpattern\":{\"fillmode\":\"overlay\",\"size\":10,\"solidity\":0.2},\"type\":\"scatter\"}],\"parcoords\":[{\"type\":\"parcoords\",\"line\":{\"colorbar\":{\"outlinewidth\":0,\"ticks\":\"\"}}}],\"scatterpolargl\":[{\"type\":\"scatterpolargl\",\"marker\":{\"colorbar\":{\"outlinewidth\":0,\"ticks\":\"\"}}}],\"bar\":[{\"error_x\":{\"color\":\"#2a3f5f\"},\"error_y\":{\"color\":\"#2a3f5f\"},\"marker\":{\"line\":{\"color\":\"#E5ECF6\",\"width\":0.5},\"pattern\":{\"fillmode\":\"overlay\",\"size\":10,\"solidity\":0.2}},\"type\":\"bar\"}],\"scattergeo\":[{\"type\":\"scattergeo\",\"marker\":{\"colorbar\":{\"outlinewidth\":0,\"ticks\":\"\"}}}],\"scatterpolar\":[{\"type\":\"scatterpolar\",\"marker\":{\"colorbar\":{\"outlinewidth\":0,\"ticks\":\"\"}}}],\"histogram\":[{\"marker\":{\"pattern\":{\"fillmode\":\"overlay\",\"size\":10,\"solidity\":0.2}},\"type\":\"histogram\"}],\"scattergl\":[{\"type\":\"scattergl\",\"marker\":{\"colorbar\":{\"outlinewidth\":0,\"ticks\":\"\"}}}],\"scatter3d\":[{\"type\":\"scatter3d\",\"line\":{\"colorbar\":{\"outlinewidth\":0,\"ticks\":\"\"}},\"marker\":{\"colorbar\":{\"outlinewidth\":0,\"ticks\":\"\"}}}],\"scattermapbox\":[{\"type\":\"scattermapbox\",\"marker\":{\"colorbar\":{\"outlinewidth\":0,\"ticks\":\"\"}}}],\"scatterternary\":[{\"type\":\"scatterternary\",\"marker\":{\"colorbar\":{\"outlinewidth\":0,\"ticks\":\"\"}}}],\"scattercarpet\":[{\"type\":\"scattercarpet\",\"marker\":{\"colorbar\":{\"outlinewidth\":0,\"ticks\":\"\"}}}],\"carpet\":[{\"aaxis\":{\"endlinecolor\":\"#2a3f5f\",\"gridcolor\":\"white\",\"linecolor\":\"white\",\"minorgridcolor\":\"white\",\"startlinecolor\":\"#2a3f5f\"},\"baxis\":{\"endlinecolor\":\"#2a3f5f\",\"gridcolor\":\"white\",\"linecolor\":\"white\",\"minorgridcolor\":\"white\",\"startlinecolor\":\"#2a3f5f\"},\"type\":\"carpet\"}],\"table\":[{\"cells\":{\"fill\":{\"color\":\"#EBF0F8\"},\"line\":{\"color\":\"white\"}},\"header\":{\"fill\":{\"color\":\"#C8D4E3\"},\"line\":{\"color\":\"white\"}},\"type\":\"table\"}],\"barpolar\":[{\"marker\":{\"line\":{\"color\":\"#E5ECF6\",\"width\":0.5},\"pattern\":{\"fillmode\":\"overlay\",\"size\":10,\"solidity\":0.2}},\"type\":\"barpolar\"}],\"pie\":[{\"automargin\":true,\"type\":\"pie\"}]},\"layout\":{\"autotypenumbers\":\"strict\",\"colorway\":[\"#636efa\",\"#EF553B\",\"#00cc96\",\"#ab63fa\",\"#FFA15A\",\"#19d3f3\",\"#FF6692\",\"#B6E880\",\"#FF97FF\",\"#FECB52\"],\"font\":{\"color\":\"#2a3f5f\"},\"hovermode\":\"closest\",\"hoverlabel\":{\"align\":\"left\"},\"paper_bgcolor\":\"white\",\"plot_bgcolor\":\"#E5ECF6\",\"polar\":{\"bgcolor\":\"#E5ECF6\",\"angularaxis\":{\"gridcolor\":\"white\",\"linecolor\":\"white\",\"ticks\":\"\"},\"radialaxis\":{\"gridcolor\":\"white\",\"linecolor\":\"white\",\"ticks\":\"\"}},\"ternary\":{\"bgcolor\":\"#E5ECF6\",\"aaxis\":{\"gridcolor\":\"white\",\"linecolor\":\"white\",\"ticks\":\"\"},\"baxis\":{\"gridcolor\":\"white\",\"linecolor\":\"white\",\"ticks\":\"\"},\"caxis\":{\"gridcolor\":\"white\",\"linecolor\":\"white\",\"ticks\":\"\"}},\"coloraxis\":{\"colorbar\":{\"outlinewidth\":0,\"ticks\":\"\"}},\"colorscale\":{\"sequential\":[[0.0,\"#0d0887\"],[0.1111111111111111,\"#46039f\"],[0.2222222222222222,\"#7201a8\"],[0.3333333333333333,\"#9c179e\"],[0.4444444444444444,\"#bd3786\"],[0.5555555555555556,\"#d8576b\"],[0.6666666666666666,\"#ed7953\"],[0.7777777777777778,\"#fb9f3a\"],[0.8888888888888888,\"#fdca26\"],[1.0,\"#f0f921\"]],\"sequentialminus\":[[0.0,\"#0d0887\"],[0.1111111111111111,\"#46039f\"],[0.2222222222222222,\"#7201a8\"],[0.3333333333333333,\"#9c179e\"],[0.4444444444444444,\"#bd3786\"],[0.5555555555555556,\"#d8576b\"],[0.6666666666666666,\"#ed7953\"],[0.7777777777777778,\"#fb9f3a\"],[0.8888888888888888,\"#fdca26\"],[1.0,\"#f0f921\"]],\"diverging\":[[0,\"#8e0152\"],[0.1,\"#c51b7d\"],[0.2,\"#de77ae\"],[0.3,\"#f1b6da\"],[0.4,\"#fde0ef\"],[0.5,\"#f7f7f7\"],[0.6,\"#e6f5d0\"],[0.7,\"#b8e186\"],[0.8,\"#7fbc41\"],[0.9,\"#4d9221\"],[1,\"#276419\"]]},\"xaxis\":{\"gridcolor\":\"white\",\"linecolor\":\"white\",\"ticks\":\"\",\"title\":{\"standoff\":15},\"zerolinecolor\":\"white\",\"automargin\":true,\"zerolinewidth\":2},\"yaxis\":{\"gridcolor\":\"white\",\"linecolor\":\"white\",\"ticks\":\"\",\"title\":{\"standoff\":15},\"zerolinecolor\":\"white\",\"automargin\":true,\"zerolinewidth\":2},\"scene\":{\"xaxis\":{\"backgroundcolor\":\"#E5ECF6\",\"gridcolor\":\"white\",\"linecolor\":\"white\",\"showbackground\":true,\"ticks\":\"\",\"zerolinecolor\":\"white\",\"gridwidth\":2},\"yaxis\":{\"backgroundcolor\":\"#E5ECF6\",\"gridcolor\":\"white\",\"linecolor\":\"white\",\"showbackground\":true,\"ticks\":\"\",\"zerolinecolor\":\"white\",\"gridwidth\":2},\"zaxis\":{\"backgroundcolor\":\"#E5ECF6\",\"gridcolor\":\"white\",\"linecolor\":\"white\",\"showbackground\":true,\"ticks\":\"\",\"zerolinecolor\":\"white\",\"gridwidth\":2}},\"shapedefaults\":{\"line\":{\"color\":\"#2a3f5f\"}},\"annotationdefaults\":{\"arrowcolor\":\"#2a3f5f\",\"arrowhead\":0,\"arrowwidth\":1},\"geo\":{\"bgcolor\":\"white\",\"landcolor\":\"#E5ECF6\",\"subunitcolor\":\"white\",\"showland\":true,\"showlakes\":true,\"lakecolor\":\"white\"},\"title\":{\"x\":0.05},\"mapbox\":{\"style\":\"light\"}}},\"title\":{\"text\":\"$\\\\text{ Input Voltages to Motors} $\"},\"xaxis\":{\"title\":{\"text\":\"$\\\\text{Time\\\\ } s$\"}},\"yaxis\":{\"title\":{\"text\":\"$V$\"}}},                        {\"responsive\": true}                    ).then(function(){\n",
              "                            \n",
              "var gd = document.getElementById('fc3f1dd9-031f-4056-af13-29a5f9513077');\n",
              "var x = new MutationObserver(function (mutations, observer) {{\n",
              "        var display = window.getComputedStyle(gd).display;\n",
              "        if (!display || display === 'none') {{\n",
              "            console.log([gd, 'removed!']);\n",
              "            Plotly.purge(gd);\n",
              "            observer.disconnect();\n",
              "        }}\n",
              "}});\n",
              "\n",
              "// Listen for the removal of the full notebook cells\n",
              "var notebookContainer = gd.closest('#notebook-container');\n",
              "if (notebookContainer) {{\n",
              "    x.observe(notebookContainer, {childList: true});\n",
              "}}\n",
              "\n",
              "// Listen for the clearing of the current output cell\n",
              "var outputEl = gd.closest('.output');\n",
              "if (outputEl) {{\n",
              "    x.observe(outputEl, {childList: true});\n",
              "}}\n",
              "\n",
              "                        })                };                            </script>        </div>\n",
              "</body>\n",
              "</html>"
            ]
          },
          "metadata": {}
        }
      ]
    },
    {
      "cell_type": "code",
      "source": [
        "fig = plt.figure(figsize =(10, 7))\n",
        "\n",
        "# Horizontal Bar Plot\n",
        "plt.bar(name[0:10], price[0:10])\n",
        "\n",
        "# Show Plot\n",
        "plt.show()"
      ],
      "metadata": {
        "id": "PwlVgych-z5V"
      },
      "execution_count": null,
      "outputs": []
    },
    {
      "cell_type": "code",
      "source": [
        "databases = ['MySQL', 'MongoDB', 'Elasticsearch', 'Redis', 'SQLite']\n",
        "usage = [80, 75, 42, 78, 60]\n",
        "fig = go.Figure(data=go.Bar(\n",
        "    x=X_x[0],\n",
        "    y=i1op[0][1:]\n",
        "))\n",
        "fig.update_layout( bargap=0.0)\n",
        "fig.show()"
      ],
      "metadata": {
        "colab": {
          "base_uri": "https://localhost:8080/",
          "height": 542
        },
        "id": "kIl0JPagjnll",
        "outputId": "d6e28333-4e92-4a8d-fcd2-64ce9dfdac99"
      },
      "execution_count": null,
      "outputs": [
        {
          "output_type": "display_data",
          "data": {
            "text/html": [
              "<html>\n",
              "<head><meta charset=\"utf-8\" /></head>\n",
              "<body>\n",
              "    <div>            <script src=\"https://cdnjs.cloudflare.com/ajax/libs/mathjax/2.7.5/MathJax.js?config=TeX-AMS-MML_SVG\"></script><script type=\"text/javascript\">if (window.MathJax && window.MathJax.Hub && window.MathJax.Hub.Config) {window.MathJax.Hub.Config({SVG: {font: \"STIX-Web\"}});}</script>                <script type=\"text/javascript\">window.PlotlyConfig = {MathJaxConfig: 'local'};</script>\n",
              "        <script src=\"https://cdn.plot.ly/plotly-2.18.2.min.js\"></script>                <div id=\"43e85534-e1c7-43b2-84be-0fcbb1c822be\" class=\"plotly-graph-div\" style=\"height:525px; width:100%;\"></div>            <script type=\"text/javascript\">                                    window.PLOTLYENV=window.PLOTLYENV || {};                                    if (document.getElementById(\"43e85534-e1c7-43b2-84be-0fcbb1c822be\")) {                    Plotly.newPlot(                        \"43e85534-e1c7-43b2-84be-0fcbb1c822be\",                        [{\"x\":[0,1,2,3,4,5,6,7,8,9,10],\"y\":[9.933501941499188,7.619225700314204,1.6384926375749513,-3.6082490269741703,-6.619605737736945,-7.531573478013596,-7.143833669227837,-6.305869108186046,-5.6116654648266415,-5.3048047662781945],\"type\":\"bar\"}],                        {\"template\":{\"data\":{\"histogram2dcontour\":[{\"type\":\"histogram2dcontour\",\"colorbar\":{\"outlinewidth\":0,\"ticks\":\"\"},\"colorscale\":[[0.0,\"#0d0887\"],[0.1111111111111111,\"#46039f\"],[0.2222222222222222,\"#7201a8\"],[0.3333333333333333,\"#9c179e\"],[0.4444444444444444,\"#bd3786\"],[0.5555555555555556,\"#d8576b\"],[0.6666666666666666,\"#ed7953\"],[0.7777777777777778,\"#fb9f3a\"],[0.8888888888888888,\"#fdca26\"],[1.0,\"#f0f921\"]]}],\"choropleth\":[{\"type\":\"choropleth\",\"colorbar\":{\"outlinewidth\":0,\"ticks\":\"\"}}],\"histogram2d\":[{\"type\":\"histogram2d\",\"colorbar\":{\"outlinewidth\":0,\"ticks\":\"\"},\"colorscale\":[[0.0,\"#0d0887\"],[0.1111111111111111,\"#46039f\"],[0.2222222222222222,\"#7201a8\"],[0.3333333333333333,\"#9c179e\"],[0.4444444444444444,\"#bd3786\"],[0.5555555555555556,\"#d8576b\"],[0.6666666666666666,\"#ed7953\"],[0.7777777777777778,\"#fb9f3a\"],[0.8888888888888888,\"#fdca26\"],[1.0,\"#f0f921\"]]}],\"heatmap\":[{\"type\":\"heatmap\",\"colorbar\":{\"outlinewidth\":0,\"ticks\":\"\"},\"colorscale\":[[0.0,\"#0d0887\"],[0.1111111111111111,\"#46039f\"],[0.2222222222222222,\"#7201a8\"],[0.3333333333333333,\"#9c179e\"],[0.4444444444444444,\"#bd3786\"],[0.5555555555555556,\"#d8576b\"],[0.6666666666666666,\"#ed7953\"],[0.7777777777777778,\"#fb9f3a\"],[0.8888888888888888,\"#fdca26\"],[1.0,\"#f0f921\"]]}],\"heatmapgl\":[{\"type\":\"heatmapgl\",\"colorbar\":{\"outlinewidth\":0,\"ticks\":\"\"},\"colorscale\":[[0.0,\"#0d0887\"],[0.1111111111111111,\"#46039f\"],[0.2222222222222222,\"#7201a8\"],[0.3333333333333333,\"#9c179e\"],[0.4444444444444444,\"#bd3786\"],[0.5555555555555556,\"#d8576b\"],[0.6666666666666666,\"#ed7953\"],[0.7777777777777778,\"#fb9f3a\"],[0.8888888888888888,\"#fdca26\"],[1.0,\"#f0f921\"]]}],\"contourcarpet\":[{\"type\":\"contourcarpet\",\"colorbar\":{\"outlinewidth\":0,\"ticks\":\"\"}}],\"contour\":[{\"type\":\"contour\",\"colorbar\":{\"outlinewidth\":0,\"ticks\":\"\"},\"colorscale\":[[0.0,\"#0d0887\"],[0.1111111111111111,\"#46039f\"],[0.2222222222222222,\"#7201a8\"],[0.3333333333333333,\"#9c179e\"],[0.4444444444444444,\"#bd3786\"],[0.5555555555555556,\"#d8576b\"],[0.6666666666666666,\"#ed7953\"],[0.7777777777777778,\"#fb9f3a\"],[0.8888888888888888,\"#fdca26\"],[1.0,\"#f0f921\"]]}],\"surface\":[{\"type\":\"surface\",\"colorbar\":{\"outlinewidth\":0,\"ticks\":\"\"},\"colorscale\":[[0.0,\"#0d0887\"],[0.1111111111111111,\"#46039f\"],[0.2222222222222222,\"#7201a8\"],[0.3333333333333333,\"#9c179e\"],[0.4444444444444444,\"#bd3786\"],[0.5555555555555556,\"#d8576b\"],[0.6666666666666666,\"#ed7953\"],[0.7777777777777778,\"#fb9f3a\"],[0.8888888888888888,\"#fdca26\"],[1.0,\"#f0f921\"]]}],\"mesh3d\":[{\"type\":\"mesh3d\",\"colorbar\":{\"outlinewidth\":0,\"ticks\":\"\"}}],\"scatter\":[{\"fillpattern\":{\"fillmode\":\"overlay\",\"size\":10,\"solidity\":0.2},\"type\":\"scatter\"}],\"parcoords\":[{\"type\":\"parcoords\",\"line\":{\"colorbar\":{\"outlinewidth\":0,\"ticks\":\"\"}}}],\"scatterpolargl\":[{\"type\":\"scatterpolargl\",\"marker\":{\"colorbar\":{\"outlinewidth\":0,\"ticks\":\"\"}}}],\"bar\":[{\"error_x\":{\"color\":\"#2a3f5f\"},\"error_y\":{\"color\":\"#2a3f5f\"},\"marker\":{\"line\":{\"color\":\"#E5ECF6\",\"width\":0.5},\"pattern\":{\"fillmode\":\"overlay\",\"size\":10,\"solidity\":0.2}},\"type\":\"bar\"}],\"scattergeo\":[{\"type\":\"scattergeo\",\"marker\":{\"colorbar\":{\"outlinewidth\":0,\"ticks\":\"\"}}}],\"scatterpolar\":[{\"type\":\"scatterpolar\",\"marker\":{\"colorbar\":{\"outlinewidth\":0,\"ticks\":\"\"}}}],\"histogram\":[{\"marker\":{\"pattern\":{\"fillmode\":\"overlay\",\"size\":10,\"solidity\":0.2}},\"type\":\"histogram\"}],\"scattergl\":[{\"type\":\"scattergl\",\"marker\":{\"colorbar\":{\"outlinewidth\":0,\"ticks\":\"\"}}}],\"scatter3d\":[{\"type\":\"scatter3d\",\"line\":{\"colorbar\":{\"outlinewidth\":0,\"ticks\":\"\"}},\"marker\":{\"colorbar\":{\"outlinewidth\":0,\"ticks\":\"\"}}}],\"scattermapbox\":[{\"type\":\"scattermapbox\",\"marker\":{\"colorbar\":{\"outlinewidth\":0,\"ticks\":\"\"}}}],\"scatterternary\":[{\"type\":\"scatterternary\",\"marker\":{\"colorbar\":{\"outlinewidth\":0,\"ticks\":\"\"}}}],\"scattercarpet\":[{\"type\":\"scattercarpet\",\"marker\":{\"colorbar\":{\"outlinewidth\":0,\"ticks\":\"\"}}}],\"carpet\":[{\"aaxis\":{\"endlinecolor\":\"#2a3f5f\",\"gridcolor\":\"white\",\"linecolor\":\"white\",\"minorgridcolor\":\"white\",\"startlinecolor\":\"#2a3f5f\"},\"baxis\":{\"endlinecolor\":\"#2a3f5f\",\"gridcolor\":\"white\",\"linecolor\":\"white\",\"minorgridcolor\":\"white\",\"startlinecolor\":\"#2a3f5f\"},\"type\":\"carpet\"}],\"table\":[{\"cells\":{\"fill\":{\"color\":\"#EBF0F8\"},\"line\":{\"color\":\"white\"}},\"header\":{\"fill\":{\"color\":\"#C8D4E3\"},\"line\":{\"color\":\"white\"}},\"type\":\"table\"}],\"barpolar\":[{\"marker\":{\"line\":{\"color\":\"#E5ECF6\",\"width\":0.5},\"pattern\":{\"fillmode\":\"overlay\",\"size\":10,\"solidity\":0.2}},\"type\":\"barpolar\"}],\"pie\":[{\"automargin\":true,\"type\":\"pie\"}]},\"layout\":{\"autotypenumbers\":\"strict\",\"colorway\":[\"#636efa\",\"#EF553B\",\"#00cc96\",\"#ab63fa\",\"#FFA15A\",\"#19d3f3\",\"#FF6692\",\"#B6E880\",\"#FF97FF\",\"#FECB52\"],\"font\":{\"color\":\"#2a3f5f\"},\"hovermode\":\"closest\",\"hoverlabel\":{\"align\":\"left\"},\"paper_bgcolor\":\"white\",\"plot_bgcolor\":\"#E5ECF6\",\"polar\":{\"bgcolor\":\"#E5ECF6\",\"angularaxis\":{\"gridcolor\":\"white\",\"linecolor\":\"white\",\"ticks\":\"\"},\"radialaxis\":{\"gridcolor\":\"white\",\"linecolor\":\"white\",\"ticks\":\"\"}},\"ternary\":{\"bgcolor\":\"#E5ECF6\",\"aaxis\":{\"gridcolor\":\"white\",\"linecolor\":\"white\",\"ticks\":\"\"},\"baxis\":{\"gridcolor\":\"white\",\"linecolor\":\"white\",\"ticks\":\"\"},\"caxis\":{\"gridcolor\":\"white\",\"linecolor\":\"white\",\"ticks\":\"\"}},\"coloraxis\":{\"colorbar\":{\"outlinewidth\":0,\"ticks\":\"\"}},\"colorscale\":{\"sequential\":[[0.0,\"#0d0887\"],[0.1111111111111111,\"#46039f\"],[0.2222222222222222,\"#7201a8\"],[0.3333333333333333,\"#9c179e\"],[0.4444444444444444,\"#bd3786\"],[0.5555555555555556,\"#d8576b\"],[0.6666666666666666,\"#ed7953\"],[0.7777777777777778,\"#fb9f3a\"],[0.8888888888888888,\"#fdca26\"],[1.0,\"#f0f921\"]],\"sequentialminus\":[[0.0,\"#0d0887\"],[0.1111111111111111,\"#46039f\"],[0.2222222222222222,\"#7201a8\"],[0.3333333333333333,\"#9c179e\"],[0.4444444444444444,\"#bd3786\"],[0.5555555555555556,\"#d8576b\"],[0.6666666666666666,\"#ed7953\"],[0.7777777777777778,\"#fb9f3a\"],[0.8888888888888888,\"#fdca26\"],[1.0,\"#f0f921\"]],\"diverging\":[[0,\"#8e0152\"],[0.1,\"#c51b7d\"],[0.2,\"#de77ae\"],[0.3,\"#f1b6da\"],[0.4,\"#fde0ef\"],[0.5,\"#f7f7f7\"],[0.6,\"#e6f5d0\"],[0.7,\"#b8e186\"],[0.8,\"#7fbc41\"],[0.9,\"#4d9221\"],[1,\"#276419\"]]},\"xaxis\":{\"gridcolor\":\"white\",\"linecolor\":\"white\",\"ticks\":\"\",\"title\":{\"standoff\":15},\"zerolinecolor\":\"white\",\"automargin\":true,\"zerolinewidth\":2},\"yaxis\":{\"gridcolor\":\"white\",\"linecolor\":\"white\",\"ticks\":\"\",\"title\":{\"standoff\":15},\"zerolinecolor\":\"white\",\"automargin\":true,\"zerolinewidth\":2},\"scene\":{\"xaxis\":{\"backgroundcolor\":\"#E5ECF6\",\"gridcolor\":\"white\",\"linecolor\":\"white\",\"showbackground\":true,\"ticks\":\"\",\"zerolinecolor\":\"white\",\"gridwidth\":2},\"yaxis\":{\"backgroundcolor\":\"#E5ECF6\",\"gridcolor\":\"white\",\"linecolor\":\"white\",\"showbackground\":true,\"ticks\":\"\",\"zerolinecolor\":\"white\",\"gridwidth\":2},\"zaxis\":{\"backgroundcolor\":\"#E5ECF6\",\"gridcolor\":\"white\",\"linecolor\":\"white\",\"showbackground\":true,\"ticks\":\"\",\"zerolinecolor\":\"white\",\"gridwidth\":2}},\"shapedefaults\":{\"line\":{\"color\":\"#2a3f5f\"}},\"annotationdefaults\":{\"arrowcolor\":\"#2a3f5f\",\"arrowhead\":0,\"arrowwidth\":1},\"geo\":{\"bgcolor\":\"white\",\"landcolor\":\"#E5ECF6\",\"subunitcolor\":\"white\",\"showland\":true,\"showlakes\":true,\"lakecolor\":\"white\"},\"title\":{\"x\":0.05},\"mapbox\":{\"style\":\"light\"}}},\"bargap\":0.0},                        {\"responsive\": true}                    ).then(function(){\n",
              "                            \n",
              "var gd = document.getElementById('43e85534-e1c7-43b2-84be-0fcbb1c822be');\n",
              "var x = new MutationObserver(function (mutations, observer) {{\n",
              "        var display = window.getComputedStyle(gd).display;\n",
              "        if (!display || display === 'none') {{\n",
              "            console.log([gd, 'removed!']);\n",
              "            Plotly.purge(gd);\n",
              "            observer.disconnect();\n",
              "        }}\n",
              "}});\n",
              "\n",
              "// Listen for the removal of the full notebook cells\n",
              "var notebookContainer = gd.closest('#notebook-container');\n",
              "if (notebookContainer) {{\n",
              "    x.observe(notebookContainer, {childList: true});\n",
              "}}\n",
              "\n",
              "// Listen for the clearing of the current output cell\n",
              "var outputEl = gd.closest('.output');\n",
              "if (outputEl) {{\n",
              "    x.observe(outputEl, {childList: true});\n",
              "}}\n",
              "\n",
              "                        })                };                            </script>        </div>\n",
              "</body>\n",
              "</html>"
            ]
          },
          "metadata": {}
        }
      ]
    },
    {
      "cell_type": "code",
      "source": [
        "\n",
        "databases = ['MySQL', 'MongoDB', 'Elasticsearch', 'Redis', 'SQLite']\n",
        "usage = [80, 75, 42, 78, 60]\n",
        "fig = go.Figure(data=go.Bar(\n",
        "    x=X_x[0],\n",
        "    y=iiop[0][1:]\n",
        "))\n",
        "fig.update_layout( bargap=0.0)\n",
        "fig.show()"
      ],
      "metadata": {
        "colab": {
          "base_uri": "https://localhost:8080/",
          "height": 542
        },
        "id": "roHaCkVlfQqM",
        "outputId": "46eff08b-8962-4482-e123-740aa0c23f24"
      },
      "execution_count": null,
      "outputs": [
        {
          "output_type": "display_data",
          "data": {
            "text/html": [
              "<html>\n",
              "<head><meta charset=\"utf-8\" /></head>\n",
              "<body>\n",
              "    <div>            <script src=\"https://cdnjs.cloudflare.com/ajax/libs/mathjax/2.7.5/MathJax.js?config=TeX-AMS-MML_SVG\"></script><script type=\"text/javascript\">if (window.MathJax && window.MathJax.Hub && window.MathJax.Hub.Config) {window.MathJax.Hub.Config({SVG: {font: \"STIX-Web\"}});}</script>                <script type=\"text/javascript\">window.PlotlyConfig = {MathJaxConfig: 'local'};</script>\n",
              "        <script src=\"https://cdn.plot.ly/plotly-2.18.2.min.js\"></script>                <div id=\"38fa8bf1-53b9-4c19-89e2-93418fc1ca9f\" class=\"plotly-graph-div\" style=\"height:525px; width:100%;\"></div>            <script type=\"text/javascript\">                                    window.PLOTLYENV=window.PLOTLYENV || {};                                    if (document.getElementById(\"38fa8bf1-53b9-4c19-89e2-93418fc1ca9f\")) {                    Plotly.newPlot(                        \"38fa8bf1-53b9-4c19-89e2-93418fc1ca9f\",                        [{\"x\":[0,1,2,3,4,5,6,7,8,9,10],\"y\":[8.000000000000021,7.999999999999928,2.827246639878215,-2.52915660899101,-5.979781366576475,-7.328156193631302,-7.239964444748617,-6.554500030333368,-5.912503285272342,-5.613281914669125],\"type\":\"bar\"}],                        {\"template\":{\"data\":{\"histogram2dcontour\":[{\"type\":\"histogram2dcontour\",\"colorbar\":{\"outlinewidth\":0,\"ticks\":\"\"},\"colorscale\":[[0.0,\"#0d0887\"],[0.1111111111111111,\"#46039f\"],[0.2222222222222222,\"#7201a8\"],[0.3333333333333333,\"#9c179e\"],[0.4444444444444444,\"#bd3786\"],[0.5555555555555556,\"#d8576b\"],[0.6666666666666666,\"#ed7953\"],[0.7777777777777778,\"#fb9f3a\"],[0.8888888888888888,\"#fdca26\"],[1.0,\"#f0f921\"]]}],\"choropleth\":[{\"type\":\"choropleth\",\"colorbar\":{\"outlinewidth\":0,\"ticks\":\"\"}}],\"histogram2d\":[{\"type\":\"histogram2d\",\"colorbar\":{\"outlinewidth\":0,\"ticks\":\"\"},\"colorscale\":[[0.0,\"#0d0887\"],[0.1111111111111111,\"#46039f\"],[0.2222222222222222,\"#7201a8\"],[0.3333333333333333,\"#9c179e\"],[0.4444444444444444,\"#bd3786\"],[0.5555555555555556,\"#d8576b\"],[0.6666666666666666,\"#ed7953\"],[0.7777777777777778,\"#fb9f3a\"],[0.8888888888888888,\"#fdca26\"],[1.0,\"#f0f921\"]]}],\"heatmap\":[{\"type\":\"heatmap\",\"colorbar\":{\"outlinewidth\":0,\"ticks\":\"\"},\"colorscale\":[[0.0,\"#0d0887\"],[0.1111111111111111,\"#46039f\"],[0.2222222222222222,\"#7201a8\"],[0.3333333333333333,\"#9c179e\"],[0.4444444444444444,\"#bd3786\"],[0.5555555555555556,\"#d8576b\"],[0.6666666666666666,\"#ed7953\"],[0.7777777777777778,\"#fb9f3a\"],[0.8888888888888888,\"#fdca26\"],[1.0,\"#f0f921\"]]}],\"heatmapgl\":[{\"type\":\"heatmapgl\",\"colorbar\":{\"outlinewidth\":0,\"ticks\":\"\"},\"colorscale\":[[0.0,\"#0d0887\"],[0.1111111111111111,\"#46039f\"],[0.2222222222222222,\"#7201a8\"],[0.3333333333333333,\"#9c179e\"],[0.4444444444444444,\"#bd3786\"],[0.5555555555555556,\"#d8576b\"],[0.6666666666666666,\"#ed7953\"],[0.7777777777777778,\"#fb9f3a\"],[0.8888888888888888,\"#fdca26\"],[1.0,\"#f0f921\"]]}],\"contourcarpet\":[{\"type\":\"contourcarpet\",\"colorbar\":{\"outlinewidth\":0,\"ticks\":\"\"}}],\"contour\":[{\"type\":\"contour\",\"colorbar\":{\"outlinewidth\":0,\"ticks\":\"\"},\"colorscale\":[[0.0,\"#0d0887\"],[0.1111111111111111,\"#46039f\"],[0.2222222222222222,\"#7201a8\"],[0.3333333333333333,\"#9c179e\"],[0.4444444444444444,\"#bd3786\"],[0.5555555555555556,\"#d8576b\"],[0.6666666666666666,\"#ed7953\"],[0.7777777777777778,\"#fb9f3a\"],[0.8888888888888888,\"#fdca26\"],[1.0,\"#f0f921\"]]}],\"surface\":[{\"type\":\"surface\",\"colorbar\":{\"outlinewidth\":0,\"ticks\":\"\"},\"colorscale\":[[0.0,\"#0d0887\"],[0.1111111111111111,\"#46039f\"],[0.2222222222222222,\"#7201a8\"],[0.3333333333333333,\"#9c179e\"],[0.4444444444444444,\"#bd3786\"],[0.5555555555555556,\"#d8576b\"],[0.6666666666666666,\"#ed7953\"],[0.7777777777777778,\"#fb9f3a\"],[0.8888888888888888,\"#fdca26\"],[1.0,\"#f0f921\"]]}],\"mesh3d\":[{\"type\":\"mesh3d\",\"colorbar\":{\"outlinewidth\":0,\"ticks\":\"\"}}],\"scatter\":[{\"fillpattern\":{\"fillmode\":\"overlay\",\"size\":10,\"solidity\":0.2},\"type\":\"scatter\"}],\"parcoords\":[{\"type\":\"parcoords\",\"line\":{\"colorbar\":{\"outlinewidth\":0,\"ticks\":\"\"}}}],\"scatterpolargl\":[{\"type\":\"scatterpolargl\",\"marker\":{\"colorbar\":{\"outlinewidth\":0,\"ticks\":\"\"}}}],\"bar\":[{\"error_x\":{\"color\":\"#2a3f5f\"},\"error_y\":{\"color\":\"#2a3f5f\"},\"marker\":{\"line\":{\"color\":\"#E5ECF6\",\"width\":0.5},\"pattern\":{\"fillmode\":\"overlay\",\"size\":10,\"solidity\":0.2}},\"type\":\"bar\"}],\"scattergeo\":[{\"type\":\"scattergeo\",\"marker\":{\"colorbar\":{\"outlinewidth\":0,\"ticks\":\"\"}}}],\"scatterpolar\":[{\"type\":\"scatterpolar\",\"marker\":{\"colorbar\":{\"outlinewidth\":0,\"ticks\":\"\"}}}],\"histogram\":[{\"marker\":{\"pattern\":{\"fillmode\":\"overlay\",\"size\":10,\"solidity\":0.2}},\"type\":\"histogram\"}],\"scattergl\":[{\"type\":\"scattergl\",\"marker\":{\"colorbar\":{\"outlinewidth\":0,\"ticks\":\"\"}}}],\"scatter3d\":[{\"type\":\"scatter3d\",\"line\":{\"colorbar\":{\"outlinewidth\":0,\"ticks\":\"\"}},\"marker\":{\"colorbar\":{\"outlinewidth\":0,\"ticks\":\"\"}}}],\"scattermapbox\":[{\"type\":\"scattermapbox\",\"marker\":{\"colorbar\":{\"outlinewidth\":0,\"ticks\":\"\"}}}],\"scatterternary\":[{\"type\":\"scatterternary\",\"marker\":{\"colorbar\":{\"outlinewidth\":0,\"ticks\":\"\"}}}],\"scattercarpet\":[{\"type\":\"scattercarpet\",\"marker\":{\"colorbar\":{\"outlinewidth\":0,\"ticks\":\"\"}}}],\"carpet\":[{\"aaxis\":{\"endlinecolor\":\"#2a3f5f\",\"gridcolor\":\"white\",\"linecolor\":\"white\",\"minorgridcolor\":\"white\",\"startlinecolor\":\"#2a3f5f\"},\"baxis\":{\"endlinecolor\":\"#2a3f5f\",\"gridcolor\":\"white\",\"linecolor\":\"white\",\"minorgridcolor\":\"white\",\"startlinecolor\":\"#2a3f5f\"},\"type\":\"carpet\"}],\"table\":[{\"cells\":{\"fill\":{\"color\":\"#EBF0F8\"},\"line\":{\"color\":\"white\"}},\"header\":{\"fill\":{\"color\":\"#C8D4E3\"},\"line\":{\"color\":\"white\"}},\"type\":\"table\"}],\"barpolar\":[{\"marker\":{\"line\":{\"color\":\"#E5ECF6\",\"width\":0.5},\"pattern\":{\"fillmode\":\"overlay\",\"size\":10,\"solidity\":0.2}},\"type\":\"barpolar\"}],\"pie\":[{\"automargin\":true,\"type\":\"pie\"}]},\"layout\":{\"autotypenumbers\":\"strict\",\"colorway\":[\"#636efa\",\"#EF553B\",\"#00cc96\",\"#ab63fa\",\"#FFA15A\",\"#19d3f3\",\"#FF6692\",\"#B6E880\",\"#FF97FF\",\"#FECB52\"],\"font\":{\"color\":\"#2a3f5f\"},\"hovermode\":\"closest\",\"hoverlabel\":{\"align\":\"left\"},\"paper_bgcolor\":\"white\",\"plot_bgcolor\":\"#E5ECF6\",\"polar\":{\"bgcolor\":\"#E5ECF6\",\"angularaxis\":{\"gridcolor\":\"white\",\"linecolor\":\"white\",\"ticks\":\"\"},\"radialaxis\":{\"gridcolor\":\"white\",\"linecolor\":\"white\",\"ticks\":\"\"}},\"ternary\":{\"bgcolor\":\"#E5ECF6\",\"aaxis\":{\"gridcolor\":\"white\",\"linecolor\":\"white\",\"ticks\":\"\"},\"baxis\":{\"gridcolor\":\"white\",\"linecolor\":\"white\",\"ticks\":\"\"},\"caxis\":{\"gridcolor\":\"white\",\"linecolor\":\"white\",\"ticks\":\"\"}},\"coloraxis\":{\"colorbar\":{\"outlinewidth\":0,\"ticks\":\"\"}},\"colorscale\":{\"sequential\":[[0.0,\"#0d0887\"],[0.1111111111111111,\"#46039f\"],[0.2222222222222222,\"#7201a8\"],[0.3333333333333333,\"#9c179e\"],[0.4444444444444444,\"#bd3786\"],[0.5555555555555556,\"#d8576b\"],[0.6666666666666666,\"#ed7953\"],[0.7777777777777778,\"#fb9f3a\"],[0.8888888888888888,\"#fdca26\"],[1.0,\"#f0f921\"]],\"sequentialminus\":[[0.0,\"#0d0887\"],[0.1111111111111111,\"#46039f\"],[0.2222222222222222,\"#7201a8\"],[0.3333333333333333,\"#9c179e\"],[0.4444444444444444,\"#bd3786\"],[0.5555555555555556,\"#d8576b\"],[0.6666666666666666,\"#ed7953\"],[0.7777777777777778,\"#fb9f3a\"],[0.8888888888888888,\"#fdca26\"],[1.0,\"#f0f921\"]],\"diverging\":[[0,\"#8e0152\"],[0.1,\"#c51b7d\"],[0.2,\"#de77ae\"],[0.3,\"#f1b6da\"],[0.4,\"#fde0ef\"],[0.5,\"#f7f7f7\"],[0.6,\"#e6f5d0\"],[0.7,\"#b8e186\"],[0.8,\"#7fbc41\"],[0.9,\"#4d9221\"],[1,\"#276419\"]]},\"xaxis\":{\"gridcolor\":\"white\",\"linecolor\":\"white\",\"ticks\":\"\",\"title\":{\"standoff\":15},\"zerolinecolor\":\"white\",\"automargin\":true,\"zerolinewidth\":2},\"yaxis\":{\"gridcolor\":\"white\",\"linecolor\":\"white\",\"ticks\":\"\",\"title\":{\"standoff\":15},\"zerolinecolor\":\"white\",\"automargin\":true,\"zerolinewidth\":2},\"scene\":{\"xaxis\":{\"backgroundcolor\":\"#E5ECF6\",\"gridcolor\":\"white\",\"linecolor\":\"white\",\"showbackground\":true,\"ticks\":\"\",\"zerolinecolor\":\"white\",\"gridwidth\":2},\"yaxis\":{\"backgroundcolor\":\"#E5ECF6\",\"gridcolor\":\"white\",\"linecolor\":\"white\",\"showbackground\":true,\"ticks\":\"\",\"zerolinecolor\":\"white\",\"gridwidth\":2},\"zaxis\":{\"backgroundcolor\":\"#E5ECF6\",\"gridcolor\":\"white\",\"linecolor\":\"white\",\"showbackground\":true,\"ticks\":\"\",\"zerolinecolor\":\"white\",\"gridwidth\":2}},\"shapedefaults\":{\"line\":{\"color\":\"#2a3f5f\"}},\"annotationdefaults\":{\"arrowcolor\":\"#2a3f5f\",\"arrowhead\":0,\"arrowwidth\":1},\"geo\":{\"bgcolor\":\"white\",\"landcolor\":\"#E5ECF6\",\"subunitcolor\":\"white\",\"showland\":true,\"showlakes\":true,\"lakecolor\":\"white\"},\"title\":{\"x\":0.05},\"mapbox\":{\"style\":\"light\"}}},\"bargap\":0.0},                        {\"responsive\": true}                    ).then(function(){\n",
              "                            \n",
              "var gd = document.getElementById('38fa8bf1-53b9-4c19-89e2-93418fc1ca9f');\n",
              "var x = new MutationObserver(function (mutations, observer) {{\n",
              "        var display = window.getComputedStyle(gd).display;\n",
              "        if (!display || display === 'none') {{\n",
              "            console.log([gd, 'removed!']);\n",
              "            Plotly.purge(gd);\n",
              "            observer.disconnect();\n",
              "        }}\n",
              "}});\n",
              "\n",
              "// Listen for the removal of the full notebook cells\n",
              "var notebookContainer = gd.closest('#notebook-container');\n",
              "if (notebookContainer) {{\n",
              "    x.observe(notebookContainer, {childList: true});\n",
              "}}\n",
              "\n",
              "// Listen for the clearing of the current output cell\n",
              "var outputEl = gd.closest('.output');\n",
              "if (outputEl) {{\n",
              "    x.observe(outputEl, {childList: true});\n",
              "}}\n",
              "\n",
              "                        })                };                            </script>        </div>\n",
              "</body>\n",
              "</html>"
            ]
          },
          "metadata": {}
        }
      ]
    },
    {
      "cell_type": "code",
      "source": [
        "iiop[0][1:]"
      ],
      "metadata": {
        "colab": {
          "base_uri": "https://localhost:8080/"
        },
        "id": "IwpKSeAihBGK",
        "outputId": "28a90c98-5579-44cf-e835-2315d7c525e4"
      },
      "execution_count": null,
      "outputs": [
        {
          "output_type": "execute_result",
          "data": {
            "text/plain": [
              "array([ 8.        ,  8.        ,  2.82724664, -2.52915661, -5.97978137,\n",
              "       -7.32815619, -7.23996444, -6.55450003, -5.91250329, -5.61328191])"
            ]
          },
          "metadata": {},
          "execution_count": 30
        }
      ]
    },
    {
      "cell_type": "code",
      "source": [
        "X_x"
      ],
      "metadata": {
        "colab": {
          "base_uri": "https://localhost:8080/"
        },
        "id": "E0z75PiphEwY",
        "outputId": "4e9eb048-97da-49e9-be87-9636abcc7cb6"
      },
      "execution_count": null,
      "outputs": [
        {
          "output_type": "execute_result",
          "data": {
            "text/plain": [
              "array([[ 0,  1,  2,  3,  4,  5,  6,  7,  8,  9, 10]])"
            ]
          },
          "metadata": {},
          "execution_count": 31
        }
      ]
    }
  ]
}